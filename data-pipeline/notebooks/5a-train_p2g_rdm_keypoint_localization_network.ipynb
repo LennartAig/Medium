{
 "cells": [
  {
   "cell_type": "markdown",
   "metadata": {
    "colab_type": "text",
    "id": "VaPxBX7SuY3A"
   },
   "source": [
    "# Position2Go keypoint localization network\n"
   ]
  },
  {
   "cell_type": "code",
   "execution_count": null,
   "metadata": {
    "colab": {
     "base_uri": "https://localhost:8080/",
     "height": 52
    },
    "colab_type": "code",
    "id": "AXprKWaHh1l-",
    "outputId": "e9db4f48-be65-48c2-d12a-110fe2a622bb"
   },
   "outputs": [],
   "source": [
    "import sys, os, warnings, time, glob\n",
    "\n",
    "# TensorFlow and tf.keras\n",
    "import tensorflow as tf\n",
    "from tensorflow import keras as keras\n",
    "from tensorflow.keras.layers import *\n",
    "from tensorflow.keras.activations import *\n",
    "\n",
    "# Helper libraries\n",
    "import numpy as np\n",
    "import pandas as pd\n",
    "import matplotlib.pyplot as plt\n",
    "\n",
    "print(\"keras version {}\".format(tf.keras.__version__)); del keras\n",
    "print(\"tensorflow version {}\".format(tf.__version__))\n",
    "\n",
    "from utils.tf_records_generator import *\n",
    "from models.res_net import *\n",
    "\n",
    "%load_ext autoreload\n",
    "%autoreload 2"
   ]
  },
  {
   "cell_type": "markdown",
   "metadata": {},
   "source": [
    "## Define data loader"
   ]
  },
  {
   "cell_type": "code",
   "execution_count": null,
   "metadata": {},
   "outputs": [],
   "source": [
    "# Define global variables\n",
    "EPOCHS = 15\n",
    "SUM_OF_ALL_DATASAMPLES = 3688\n",
    "BATCHSIZE = 32\n",
    "SHUFFLE_BUFFER = 512"
   ]
  },
  {
   "cell_type": "code",
   "execution_count": null,
   "metadata": {},
   "outputs": [],
   "source": [
    "P2G_TEST_SET_PATH = \"/home/kingkolibri/10_catkin_ws/test_records/\"\n",
    "P2G_TRAIN_SET_PATH = \"/home/kingkolibri/10_catkin_ws/train_records/\""
   ]
  },
  {
   "cell_type": "code",
   "execution_count": null,
   "metadata": {},
   "outputs": [],
   "source": [
    "train_files = glob.glob(P2G_TRAIN_SET_PATH + \"p2g_*.tfrecord\")\n",
    "test_files = glob.glob(P2G_TEST_SET_PATH + \"p2g_*.tfrecord\")\n",
    "train_files"
   ]
  },
  {
   "cell_type": "code",
   "execution_count": null,
   "metadata": {},
   "outputs": [],
   "source": [
    "def create_dataset(filenames, repetitions=-1):\n",
    "    \n",
    "    # This works with arrays as well\n",
    "    dataset = tf.data.TFRecordDataset(filenames=filenames)\n",
    "    \n",
    "    # Maps the parser on every filepath in the array\n",
    "    dataset = dataset.map(parse_p2g_example, num_parallel_calls=8)\n",
    "    dataset = dataset.repeat(repetitions) # will go on forever        \n",
    "    # dataset = dataset.shuffle(SHUFFLE_BUFFER)\n",
    "    dataset = dataset.batch(BATCHSIZE)\n",
    "    \n",
    "    # Create an iterator\n",
    "    iterator = dataset.make_one_shot_iterator()\n",
    "    \n",
    "    # Create tf representation of the iterator\n",
    "    rdm, heatmaps = iterator.get_next()\n",
    "    \n",
    "    return rdm, heatmaps"
   ]
  },
  {
   "cell_type": "markdown",
   "metadata": {},
   "source": [
    "## Build and train model"
   ]
  },
  {
   "cell_type": "code",
   "execution_count": null,
   "metadata": {},
   "outputs": [],
   "source": [
    "fn_model = tf.keras.Sequential()\n",
    "fn_model.add(Flatten(input_shape=(64, 64, 2)))\n",
    "fn_model.add(Dense(64*64*5))\n",
    "#fn_model.add(Activation('relu'))\n",
    "#fn_model.add(Dense(64*64*13))\n",
    "fn_model.add(Activation('sigmoid'))\n",
    "fn_model.add(Reshape((64, 64, 13)))"
   ]
  },
  {
   "cell_type": "code",
   "execution_count": null,
   "metadata": {
    "scrolled": true
   },
   "outputs": [],
   "source": [
    "STEPS_PER_EPOCH= int(SUM_OF_ALL_DATASAMPLES / BATCHSIZE)\n",
    "\n",
    "#Get your datatensors\n",
    "inputs, labels = create_dataset(train_files)\n",
    "\n",
    "\n",
    "localizer_model = resnet((64, 64, 8), depth=14)\n",
    "\n",
    "# Describe model\n",
    "localizer_model.summary()"
   ]
  },
  {
   "cell_type": "markdown",
   "metadata": {},
   "source": [
    "### Train model"
   ]
  },
  {
   "cell_type": "code",
   "execution_count": null,
   "metadata": {},
   "outputs": [],
   "source": [
    "#Compile model\n",
    "localizer_model.compile(optimizer=tf.keras.optimizers.Adam(),\n",
    "                        loss='mean_squared_error',\n",
    "                        metrics=['acc'],\n",
    "                        target_tensors=[labels]\n",
    "                   )"
   ]
  },
  {
   "cell_type": "code",
   "execution_count": null,
   "metadata": {
    "scrolled": true
   },
   "outputs": [],
   "source": [
    "#Train the model\n",
    "train_hist = localizer_model.fit(\n",
    "    inputs, labels,\n",
    "    epochs=EPOCHS, \n",
    "    steps_per_epoch=STEPS_PER_EPOCH)"
   ]
  },
  {
   "cell_type": "code",
   "execution_count": null,
   "metadata": {},
   "outputs": [],
   "source": [
    "fig, ax1 = plt.subplots()\n",
    "\n",
    "color = 'tab:red'\n",
    "ax1.set_xlabel('Epoch')\n",
    "ax1.set_ylabel('Loss', color=color)\n",
    "ax1.plot(train_hist.history['loss'], color=color)\n",
    "ax1.tick_params(axis='y', labelcolor=color)\n",
    "\n",
    "ax2 = ax1.twinx()  # instantiate a second axes that shares the same x-axis\n",
    "\n",
    "color = 'tab:blue'\n",
    "ax2.set_ylabel('Accuracy', color=color)  # we already handled the x-label with ax1\n",
    "ax2.plot(train_hist.history['acc'], color=color)\n",
    "ax2.tick_params(axis='y', labelcolor=color)\n",
    "\n",
    "fig.tight_layout()  # otherwise the right y-label is slightly clipped\n",
    "\n",
    "plt.title(\"Training history\")\n",
    "plt.show()"
   ]
  },
  {
   "cell_type": "markdown",
   "metadata": {},
   "source": [
    "### Test trained model"
   ]
  },
  {
   "cell_type": "code",
   "execution_count": null,
   "metadata": {},
   "outputs": [],
   "source": [
    "def create_dataset(filenames, repetitions=-1):\n",
    "    \n",
    "    # This works with arrays as well\n",
    "    dataset = tf.data.TFRecordDataset(filenames=filenames)\n",
    "    \n",
    "    # Maps the parser on every filepath in the array\n",
    "    dataset = dataset.map(parse_p2g_example, num_parallel_calls=8)\n",
    "    dataset = dataset.repeat(repetitions) # will go on forever        \n",
    "    dataset = dataset.shuffle(SHUFFLE_BUFFER)\n",
    "    dataset = dataset.batch(BATCHSIZE)\n",
    "    \n",
    "    # Create an iterator\n",
    "    iterator = dataset.make_one_shot_iterator()\n",
    "    \n",
    "    # Create tf representation of the iterator\n",
    "    rdm, heatmaps = iterator.get_next()\n",
    "    \n",
    "    return rdm, heatmaps"
   ]
  },
  {
   "cell_type": "code",
   "execution_count": null,
   "metadata": {},
   "outputs": [],
   "source": [
    "test_files"
   ]
  },
  {
   "cell_type": "code",
   "execution_count": null,
   "metadata": {},
   "outputs": [],
   "source": [
    "#Get your datatensors\n",
    "inputs, labels = create_dataset(test_files, repetitions=1)\n",
    "\n",
    "#Combine it with keras\n",
    "model_input = tf.keras.layers.Input(tensor=inputs)\n",
    "\n",
    "localizer_model.evaluate(\n",
    "    x=model_input,\n",
    "    y=labels,\n",
    "    verbose=1,\n",
    "    steps=20\n",
    ")\n"
   ]
  },
  {
   "cell_type": "markdown",
   "metadata": {},
   "source": [
    "## Visualize result"
   ]
  },
  {
   "cell_type": "code",
   "execution_count": null,
   "metadata": {},
   "outputs": [],
   "source": [
    "with tf.Session() as sess:\n",
    "    sess.run(tf.initialize_all_variables()) #execute init_op\n",
    "    sample_rdm = sess.run(inputs)\n",
    "    sample_heatmaps = sess.run(labels)\n",
    "    sample_outputs = localizer_model.predict_on_batch(inputs)"
   ]
  },
  {
   "cell_type": "code",
   "execution_count": null,
   "metadata": {},
   "outputs": [],
   "source": [
    "64*64*8*4"
   ]
  },
  {
   "cell_type": "code",
   "execution_count": null,
   "metadata": {},
   "outputs": [],
   "source": [
    "plt.matshow(sample_outputs[0,:,:,5])"
   ]
  },
  {
   "cell_type": "code",
   "execution_count": null,
   "metadata": {},
   "outputs": [],
   "source": [
    "sample_outputs.shape"
   ]
  },
  {
   "cell_type": "markdown",
   "metadata": {},
   "source": [
    "### Visualize sample heatmaps"
   ]
  },
  {
   "cell_type": "code",
   "execution_count": null,
   "metadata": {},
   "outputs": [],
   "source": [
    "keypoint_columns = [\n",
    "    'LAnkle', \n",
    "    'LElbow', \n",
    "    'LHip', \n",
    "    'LKnee',\n",
    "    'LShoulder',\n",
    "    #['keypoint_0_LSmallToe_x', 'keypoint_0_LSmallToe_y'],\n",
    "    'LWrist',\n",
    "    #['keypoint_0_MidHip_x', 'keypoint_0_MidHip_y'],\n",
    "    #['keypoint_0_Neck_x', 'keypoint_0_Neck_y'],\n",
    "    'Nose',\n",
    "    'RAnkle',\n",
    "    #['keypoint_0_RBigToe_x','keypoint_0_RBigToe_y'], \n",
    "    #['keypoint_0_REar_x','keypoint_0_REar_y'], \n",
    "    'RElbow', \n",
    "    #['keypoint_0_REye_x','keypoint_0_REye_y'], \n",
    "    #['keypoint_0_RHeel_x','keypoint_0_RHeel_y'], \n",
    "    'RHip', \n",
    "    'RKnee', \n",
    "    'RShoulder',\n",
    "    #['keypoint_0_RSmallToe_x', 'keypoint_0_RSmallToe_y'], \n",
    "    'RWrist' \n",
    "]"
   ]
  },
  {
   "cell_type": "markdown",
   "metadata": {},
   "source": [
    "### Visualize estimated keypoints"
   ]
  },
  {
   "cell_type": "code",
   "execution_count": null,
   "metadata": {},
   "outputs": [],
   "source": [
    "y_test = sample_outputs\n",
    "y_pred = sample_heatmaps"
   ]
  },
  {
   "cell_type": "code",
   "execution_count": null,
   "metadata": {},
   "outputs": [],
   "source": [
    "heigth = y_test.shape[1]\n",
    "width = y_test.shape[2]\n",
    "num_keypoints = y_test.shape[3]\n",
    "\n",
    "\n",
    "\n",
    "for i in np.random.randint(y_test.shape[0], size=(2,)):\n",
    "    \n",
    "    \n",
    "    fig = plt.figure(figsize=(3,3))\n",
    "  #  ax = fig.add_subplot(1,1,1)\n",
    "  #  ax.imshow(X_train[i,:,:,0], cmap=\"gray\")\n",
    "  #  ax.axis(\"off\")\n",
    "    \n",
    "    fig = plt.figure(figsize=(20,3))\n",
    "    count = 1\n",
    "    \n",
    "    for j, keypoint in enumerate(keypoint_columns):\n",
    "        ax = fig.add_subplot(2, num_keypoints, count)\n",
    "        ax.set_title(keypoint)\n",
    "        ax.axis(\"off\")\n",
    "        count += 1\n",
    "        ax.imshow(y_pred[i,:,:,j])\n",
    "        if j == 0:\n",
    "            ax.set_ylabel(\"prediction\")\n",
    "            \n",
    "    for j, keypoint in enumerate(keypoint_columns):\n",
    "        ax = fig.add_subplot(2, num_keypoints,count)\n",
    "        count += 1\n",
    "        ax.imshow(y_test[i,:,:,j])   \n",
    "        ax.axis(\"off\")\n",
    "        if j == 0:\n",
    "            ax.set_ylabel(\"true\")\n",
    "    plt.show()"
   ]
  },
  {
   "cell_type": "markdown",
   "metadata": {},
   "source": [
    "### Visualize stick man"
   ]
  },
  {
   "cell_type": "code",
   "execution_count": null,
   "metadata": {},
   "outputs": [],
   "source": [
    "keypoint_pairs = [\n",
    "    [('Neck', 'RShoulder'), None],\n",
    "    [('Neck', 'LShoulder'), None],\n",
    "    [('RShoulder', 'RElbow'), None],\n",
    "    [('RElbow', 'RWrist'), None],\n",
    "    [('LShoulder', 'LElbow'), None],\n",
    "    [('LElbow', 'LWrist'), None],\n",
    "    [('Neck', 'RHip'), None],\n",
    "    [('RHip', 'RKnee'), None],\n",
    "    [('RKnee', 'RAnkle'), None],\n",
    "    [('Neck', 'LHip'), None],\n",
    "    [('LHip', 'LKnee'), None],\n",
    "    [('LKnee', 'LAnkle'), None],\n",
    "    [('Neck', 'Nose'), None],\n",
    "    [('Nose', 'REye'), None],\n",
    "    [('REye', 'REar'), None],\n",
    "    [('Nose', 'LEye'), None],\n",
    "    [('LEye', 'LEar'), None],\n",
    "    [('RShoulder', 'REar'), None],\n",
    "    [('LShoulder', 'LEar'), None],\n",
    "    [('LHip', 'LAnkle'), 'LKnee'],\n",
    "    [('RHip', 'RAnkle'), 'RKnee'],\n",
    "    [('RShoulder', 'RAnkle'), 'RElbow'],\n",
    "    [('LShoulder', 'LAnkle'), 'LElbow'],\n",
    "    [('RHip', 'LHip'), 'Neck'],\n",
    "    [('RHip', 'RShoulder'), 'Neck'],\n",
    "    [('LHip', 'LShoulder'), 'Neck'],\n",
    "]"
   ]
  },
  {
   "cell_type": "code",
   "execution_count": null,
   "metadata": {},
   "outputs": [],
   "source": [
    "body_pred = {}\n",
    "body_true = {}\n",
    "for j, keypoint in enumerate(keypoint_columns):\n",
    "    x_pred = y_pred[i,:,:,j]\n",
    "    x_true = y_test[i,:,:,j]\n",
    "    body_pred[keypoint] = np.unravel_index(y_test[i,:,:,j].argmax(), y_test[i,:,:,j].shape)\n",
    "    body_true[keypoint] = np.unravel_index(y_pred[i,:,:,j].argmax(), y_pred[i,:,:,j].shape)"
   ]
  },
  {
   "cell_type": "markdown",
   "metadata": {},
   "source": [
    "Let's first check the visualization of the samples"
   ]
  },
  {
   "cell_type": "code",
   "execution_count": null,
   "metadata": {},
   "outputs": [],
   "source": [
    "body_true"
   ]
  },
  {
   "cell_type": "code",
   "execution_count": null,
   "metadata": {},
   "outputs": [],
   "source": [
    "img = np.zeros((64,64,3), np.uint8)\n",
    "\n",
    "import cv2\n",
    "image_h, image_w = img.shape[:2]\n",
    "\n",
    "centers = {}\n",
    "\n",
    "# draw point\n",
    "for key in keypoint_columns:\n",
    "    if key not in body_true.keys():\n",
    "        continue\n",
    "\n",
    "    body_part = body_true[key]\n",
    "    center = (body_part[1], body_part[0])\n",
    "    centers[key] = center\n",
    "    img[center[1], center[0], :] =  [0, 255, 0]"
   ]
  },
  {
   "cell_type": "code",
   "execution_count": null,
   "metadata": {},
   "outputs": [],
   "source": [
    "plt.imshow(img)"
   ]
  },
  {
   "cell_type": "code",
   "execution_count": null,
   "metadata": {},
   "outputs": [],
   "source": [
    "# draw line\n",
    "for pair_order, pair in enumerate(keypoint_pairs):\n",
    "    if pair[0][0] not in body_true.keys() or pair[0][1] not in body_true.keys() or pair[1] in body_true.keys():\n",
    "        continue\n",
    "\n",
    "    cv2.line(img, centers[pair[0][0]], centers[pair[0][1]], [255, 0, 0], 1)"
   ]
  },
  {
   "cell_type": "code",
   "execution_count": null,
   "metadata": {},
   "outputs": [],
   "source": [
    "plt.imshow(img)"
   ]
  },
  {
   "cell_type": "markdown",
   "metadata": {},
   "source": [
    "Now lets take a look at the network output"
   ]
  },
  {
   "cell_type": "code",
   "execution_count": null,
   "metadata": {},
   "outputs": [],
   "source": [
    "img = np.zeros((64,64,3), np.uint8)\n",
    "\n",
    "import cv2\n",
    "image_h, image_w = img.shape[:2]\n",
    "\n",
    "centers = {}\n",
    "\n",
    "# draw point\n",
    "for key in keypoint_columns:\n",
    "    if key not in body_pred.keys():\n",
    "        continue\n",
    "\n",
    "    body_part = body_pred[key]\n",
    "    center = (body_part[1], body_part[0])\n",
    "    centers[key] = center\n",
    "    img[center[1], center[0], :] =  [0, 255, 0]\n",
    "    \n",
    "# draw line\n",
    "for pair_order, pair in enumerate(keypoint_pairs):\n",
    "    if pair[0][0] not in body_pred.keys() or pair[0][1] not in body_pred.keys() or pair[1] in body_pred.keys():\n",
    "        continue\n",
    "\n",
    "    cv2.line(img, centers[pair[0][0]], centers[pair[0][1]], [255, 0, 0], 1)\n",
    "    \n",
    "plt.imshow(img)"
   ]
  },
  {
   "cell_type": "code",
   "execution_count": null,
   "metadata": {},
   "outputs": [],
   "source": []
  },
  {
   "cell_type": "code",
   "execution_count": null,
   "metadata": {},
   "outputs": [],
   "source": []
  },
  {
   "cell_type": "code",
   "execution_count": null,
   "metadata": {},
   "outputs": [],
   "source": []
  }
 ],
 "metadata": {
  "accelerator": "GPU",
  "colab": {
   "collapsed_sections": [],
   "name": "train_keypoint_localization_network",
   "provenance": [],
   "toc_visible": true,
   "version": "0.3.2"
  },
  "kernelspec": {
   "display_name": "Python 3",
   "language": "python",
   "name": "python3"
  },
  "language_info": {
   "codemirror_mode": {
    "name": "ipython",
    "version": 3
   },
   "file_extension": ".py",
   "mimetype": "text/x-python",
   "name": "python",
   "nbconvert_exporter": "python",
   "pygments_lexer": "ipython3",
   "version": "3.7.3"
  },
  "pycharm": {
   "stem_cell": {
    "cell_type": "raw",
    "metadata": {
     "collapsed": false
    },
    "source": []
   }
  }
 },
 "nbformat": 4,
 "nbformat_minor": 1
}
