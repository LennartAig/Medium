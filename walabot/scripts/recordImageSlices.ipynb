{
 "cells": [
  {
   "cell_type": "markdown",
   "metadata": {},
   "source": [
    "# Walabot recording"
   ]
  },
  {
   "cell_type": "markdown",
   "metadata": {},
   "source": [
    "    Name:           walabot_RawRecording\n",
    "    Parameters:     SetProfile, SetFilter, FrameRate(fps)\n",
    "    Info:           Logs raw signals from radar antenna pairs, raw images and current unix time in nanosec.\n",
    "                    Rate of measurement is currently not specified. Hence it depends on local processing power.\n",
    "                    \n",
    "    Based on:       'RawImage.py' of Walabot github project and \"People and Fall Detection with Walabot\" from\n",
    "                    hackster.io\n",
    "\n",
    "    @author: Lennart Aigner <lennart.aigner@tum.de>, Christian Lang <christian.lang@tum.de>"
   ]
  },
  {
   "cell_type": "code",
   "execution_count": 1,
   "metadata": {},
   "outputs": [],
   "source": [
    "import matplotlib\n",
    "import matplotlib.pyplot as plt\n",
    "import time\n",
    "import sys\n",
    "import os\n",
    "import pandas as pd\n",
    "import numpy as np\n",
    "\n",
    "if os.name == 'nt':\n",
    "    from msvcrt import getch, kbhit\n",
    "else:\n",
    "    import curses\n",
    "\n",
    "matplotlib.use('tkagg')\n",
    "\n",
    "import WalabotAPI as wb\n",
    "\n",
    "from IPython.display import clear_output"
   ]
  },
  {
   "cell_type": "code",
   "execution_count": 2,
   "metadata": {},
   "outputs": [],
   "source": [
    "# Select scan arena\n",
    "#             R             Phi          Theta\n",
    "ARENA = [(40, 500, 4), (-60, 60, 5), (-15, 15, 5)]"
   ]
  },
  {
   "cell_type": "code",
   "execution_count": 3,
   "metadata": {},
   "outputs": [
    {
     "name": "stdout",
     "output_type": "stream",
     "text": [
      "Initialize API\n",
      "Walabot API version: 1.2.2_1a20f5edc5cf4fada3b3002990052a300279b7f8\n",
      "Connected to Walabot\n",
      "Arena set\n"
     ]
    }
   ],
   "source": [
    "# Init of Dataframe\n",
    "dataset = pd.DataFrame()\n",
    "# Star Walabot capture process\n",
    "print(\"Initialize API\")\n",
    "wb.Init()\n",
    "wb.Initialize()\n",
    "\n",
    "# Check if a Walabot is connected\n",
    "try:\n",
    "    wb.ConnectAny()\n",
    "\n",
    "except wb.WalabotError as err:\n",
    "    print(\"Failed to connect to Walabot.\\nerror code: \" + str(err.code))\n",
    "    sys.exit(1)\n",
    "\n",
    "ver = wb.GetVersion()\n",
    "print(\"Walabot API version: {}\".format(ver))\n",
    "\n",
    "print(\"Connected to Walabot\")\n",
    "wb.SetProfile(wb.PROF_SENSOR)\n",
    "\n",
    "# Set scan arena\n",
    "wb.SetArenaR(*ARENA[0])\n",
    "wb.SetArenaPhi(*ARENA[1])\n",
    "wb.SetArenaTheta(*ARENA[2])\n",
    "print(\"Arena set\")\n",
    "\n",
    "# Set image filter\n",
    "wb.SetDynamicImageFilter(wb.FILTER_TYPE_NONE)"
   ]
  },
  {
   "cell_type": "code",
   "execution_count": 4,
   "metadata": {},
   "outputs": [
    {
     "name": "stdout",
     "output_type": "stream",
     "text": [
      "Calibration done!\n"
     ]
    }
   ],
   "source": [
    "# Start calibration\n",
    "wb.Start()\n",
    "wb.StartCalibration()\n",
    "while wb.GetStatus()[0] == wb.STATUS_CALIBRATING:\n",
    "    wb.Trigger()\n",
    "\n",
    "print(\"Calibration done!\")"
   ]
  },
  {
   "cell_type": "markdown",
   "metadata": {},
   "source": [
    "###  For Sensor profile use Polar coordinates Arena \n",
    "(see Walabot_SetArenaR(), Walabot_SetArenaPhi()).\n",
    "E.g.:\n",
    "Phi = phiMin + i *(phiMax-phiMin) / (sizeX-1);\n",
    "R = RMin + j *(RMax-RMin) / (sizeY-1);"
   ]
  },
  {
   "cell_type": "code",
   "execution_count": 5,
   "metadata": {
    "scrolled": false
   },
   "outputs": [
    {
     "data": {
      "text/plain": [
       "<matplotlib.image.AxesImage at 0x178b51c5988>"
      ]
     },
     "execution_count": 5,
     "metadata": {},
     "output_type": "execute_result"
    },
    {
     "data": {
      "image/png": "[encoded data removed]",
      "text/plain": [
       "<Figure size 432x288 with 1 Axes>"
      ]
     },
     "metadata": {
      "needs_background": "light"
     },
     "output_type": "display_data"
    }
   ],
   "source": [
    "wb.Trigger\n",
    "    \n",
    "plt.imshow(np.array(wb.GetRawImageSlice()[0]))"
   ]
  },
  {
   "cell_type": "code",
   "execution_count": null,
   "metadata": {},
   "outputs": [],
   "source": []
  },
  {
   "cell_type": "code",
   "execution_count": 6,
   "metadata": {},
   "outputs": [],
   "source": [
    "namevar = time.strftime(\"%Y_%m_%d_%H_%M_%S\")\n",
    "start_namevar = namevar"
   ]
  },
  {
   "cell_type": "code",
   "execution_count": 7,
   "metadata": {
    "scrolled": true
   },
   "outputs": [
    {
     "name": "stdout",
     "output_type": "stream",
     "text": [
      "0\n",
      "interrupted!\n"
     ]
    }
   ],
   "source": [
    "dim1, dim2 = wb.GetRawImageSlice()[1:3]\n",
    "try:\n",
    "    pairs = wb.GetAntennaPairs()\n",
    "    j=1\n",
    "    #print(len(wb.GetAntennaPairs()))\n",
    "    \n",
    "    while True:\n",
    "        # One iteration takes around 0.1 seconds\n",
    "        wb.Trigger()\n",
    "        try:\n",
    "\n",
    "            raw_image, size_phi, size_r, slice_depth, power = wb.GetRawImageSlice()\n",
    "\n",
    "            clear_output()\n",
    "            print(np.array(raw_image).sum())\n",
    "            \n",
    "            sample_dict = {\n",
    "                'timestamp': time.time_ns(),\n",
    "                # 'raw_signals': raw_signals,\n",
    "                'raw_image/img': raw_image,\n",
    "                'raw_image/r': size_r,\n",
    "                'raw_image/phi': size_phi,\n",
    "                'raw_image/depth': slice_depth,\n",
    "                'raw_image/power': power\n",
    "                }\n",
    "\n",
    "            dataset = dataset.append(sample_dict, ignore_index=True)\n",
    "            #print(sample_dict[\"timestamp\"])\n",
    "        except:\n",
    "            print(sys.exc_info())\n",
    "        \n",
    "        if j == 1000:\n",
    "            dataset.iloc[-1000:].to_pickle(\"walabot_{}.pkl\".format(namevar))\n",
    "            namevar  = time.strftime(\"%Y_%m_%d_%H_%M_%S\")\n",
    "            j = 1\n",
    "            \n",
    "        time.sleep(0.2)\n",
    "        j+=1\n",
    "        \n",
    "except KeyboardInterrupt:\n",
    "    print('interrupted!')\n"
   ]
  },
  {
   "cell_type": "code",
   "execution_count": 8,
   "metadata": {
    "scrolled": true
   },
   "outputs": [],
   "source": [
    "dataset.to_pickle(\"walabot_{}.pkl\".format(start_namevar))"
   ]
  },
  {
   "cell_type": "code",
   "execution_count": 9,
   "metadata": {
    "scrolled": true
   },
   "outputs": [
    {
     "name": "stdout",
     "output_type": "stream",
     "text": [
      "Done!\n"
     ]
    },
    {
     "ename": "SystemExit",
     "evalue": "0",
     "output_type": "error",
     "traceback": [
      "An exception has occurred, use %tb to see the full traceback.\n",
      "\u001b[1;31mSystemExit\u001b[0m\u001b[1;31m:\u001b[0m 0\n"
     ]
    },
    {
     "name": "stderr",
     "output_type": "stream",
     "text": [
      "c:\\users\\tamar\\appdata\\local\\programs\\python\\python37\\lib\\site-packages\\IPython\\core\\interactiveshell.py:3334: UserWarning: To exit: use 'exit', 'quit', or Ctrl-D.\n",
      "  warn(\"To exit: use 'exit', 'quit', or Ctrl-D.\", stacklevel=1)\n"
     ]
    }
   ],
   "source": [
    "wb.Stop()\n",
    "wb.Disconnect()\n",
    "\n",
    "print(\"Done!\")\n",
    "\n",
    "sys.exit(0)"
   ]
  },
  {
   "cell_type": "code",
   "execution_count": 10,
   "metadata": {},
   "outputs": [
    {
     "data": {
      "text/plain": [
       "(288, 6)"
      ]
     },
     "execution_count": 10,
     "metadata": {},
     "output_type": "execute_result"
    }
   ],
   "source": [
    "dataset.shape"
   ]
  },
  {
   "cell_type": "code",
   "execution_count": null,
   "metadata": {},
   "outputs": [],
   "source": []
  },
  {
   "cell_type": "code",
   "execution_count": null,
   "metadata": {},
   "outputs": [],
   "source": []
  }
 ],
 "metadata": {
  "kernelspec": {
   "display_name": "Python 3",
   "language": "python",
   "name": "python3"
  },
  "language_info": {
   "codemirror_mode": {
    "name": "ipython",
    "version": 3
   },
   "file_extension": ".py",
   "mimetype": "text/x-python",
   "name": "python",
   "nbconvert_exporter": "python",
   "pygments_lexer": "ipython3",
   "version": "3.7.4"
  },
  "pycharm": {
   "stem_cell": {
    "cell_type": "raw",
    "metadata": {
     "collapsed": false
    },
    "source": []
   }
  }
 },
 "nbformat": 4,
 "nbformat_minor": 2
}
